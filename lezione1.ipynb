{
  "nbformat": 4,
  "nbformat_minor": 0,
  "metadata": {
    "colab": {
      "provenance": [],
      "authorship_tag": "ABX9TyOFRoknh4dc1Z4wgIM27BML",
      "include_colab_link": true
    },
    "kernelspec": {
      "name": "python3",
      "display_name": "Python 3"
    },
    "language_info": {
      "name": "python"
    }
  },
  "cells": [
    {
      "cell_type": "markdown",
      "metadata": {
        "id": "view-in-github",
        "colab_type": "text"
      },
      "source": [
        "<a href=\"https://colab.research.google.com/github/NoeBaru/CampusS.T.E.M/blob/main/lezione1.ipynb\" target=\"_parent\"><img src=\"https://colab.research.google.com/assets/colab-badge.svg\" alt=\"Open In Colab\"/></a>"
      ]
    },
    {
      "cell_type": "code",
      "execution_count": 40,
      "metadata": {
        "colab": {
          "base_uri": "https://localhost:8080/"
        },
        "id": "d1BKCOXPZbkk",
        "outputId": "b2ebd996-2497-47c6-99bd-e1857d0043f1"
      },
      "outputs": [
        {
          "output_type": "stream",
          "name": "stdout",
          "text": [
            "Hello, world!\n"
          ]
        }
      ],
      "source": [
        "print(\"Hello, world!\") #stampa ciao mondo"
      ]
    },
    {
      "cell_type": "code",
      "source": [
        "nome = \"Noemi\" #assegno alla variabile nome il mio nome"
      ],
      "metadata": {
        "id": "l_ahX1_QapoS"
      },
      "execution_count": 41,
      "outputs": []
    },
    {
      "cell_type": "code",
      "source": [
        "print(nome) #stampa il mio nome"
      ],
      "metadata": {
        "colab": {
          "base_uri": "https://localhost:8080/"
        },
        "id": "yTCItiubarut",
        "outputId": "b9239f5b-cb00-4520-cddc-816e635fca68"
      },
      "execution_count": 42,
      "outputs": [
        {
          "output_type": "stream",
          "name": "stdout",
          "text": [
            "Noemi\n"
          ]
        }
      ]
    },
    {
      "cell_type": "code",
      "source": [
        "print(f\"il tuo nome e': {nome}\") #stampa il tuo nome"
      ],
      "metadata": {
        "colab": {
          "base_uri": "https://localhost:8080/"
        },
        "id": "K8lNp5tca-4i",
        "outputId": "088a3a6b-9de8-4014-d67f-94d458c45244"
      },
      "execution_count": 43,
      "outputs": [
        {
          "output_type": "stream",
          "name": "stdout",
          "text": [
            "il tuo nome e': Noemi\n"
          ]
        }
      ]
    },
    {
      "cell_type": "code",
      "source": [
        "robot = arnold = \"Terminator\""
      ],
      "metadata": {
        "id": "m1C9zuWTbpZl"
      },
      "execution_count": 44,
      "outputs": []
    },
    {
      "cell_type": "code",
      "source": [
        "print(f\"Arnold e': {arnold} e robot e': {robot}\")"
      ],
      "metadata": {
        "colab": {
          "base_uri": "https://localhost:8080/"
        },
        "id": "HSSwWlWXbt7G",
        "outputId": "452250dc-8e8f-4462-f4bb-1a091e2c0e0a"
      },
      "execution_count": 45,
      "outputs": [
        {
          "output_type": "stream",
          "name": "stdout",
          "text": [
            "Arnold e': Terminator e robot e': Terminator\n"
          ]
        }
      ]
    },
    {
      "cell_type": "code",
      "source": [
        "x = 100\n",
        "print(x)\n",
        "x = x + 1\n",
        "print(x)\n",
        "\n",
        "y = 50\n",
        "print(y)\n",
        "x += y #x = x + y\n",
        "print(x)"
      ],
      "metadata": {
        "colab": {
          "base_uri": "https://localhost:8080/"
        },
        "id": "Xa3w_foLcstN",
        "outputId": "0017409b-7ab0-4b74-e1d1-011ac95e1451"
      },
      "execution_count": 46,
      "outputs": [
        {
          "output_type": "stream",
          "name": "stdout",
          "text": [
            "100\n",
            "101\n",
            "50\n",
            "151\n"
          ]
        }
      ]
    },
    {
      "cell_type": "code",
      "source": [
        "basic_red = \"Mountain\"\n",
        "basic_blue = \"Island\"\n",
        "dual_land = basic_red + \" \" + basic_blue\n",
        "print(dual_land)"
      ],
      "metadata": {
        "colab": {
          "base_uri": "https://localhost:8080/"
        },
        "id": "Iupez4LEdxmt",
        "outputId": "1faf6450-bde7-43b9-c9cf-bbde1789634d"
      },
      "execution_count": 47,
      "outputs": [
        {
          "output_type": "stream",
          "name": "stdout",
          "text": [
            "Mountain Island\n"
          ]
        }
      ]
    },
    {
      "cell_type": "code",
      "source": [
        "#le liste possono avere diversi tipi di variabili all'interno\n",
        "lista = [\"a\", 3, \"ciao\", -1, 3.44]\n",
        "#il dizionario e'\n",
        "dizionario = {}\n",
        "\n",
        "dizionario[\"Ferrari\"] = \"rossa\"\n",
        "dizionario[\"porche\"] = \"blu\"\n",
        "print(dizionario[\"Ferrari\"])\n",
        "\n",
        "dizionario[\"dato\"] = lista\n",
        "print(dizionario[\"dato\"][0]) #stampa il primo valore della lista"
      ],
      "metadata": {
        "colab": {
          "base_uri": "https://localhost:8080/"
        },
        "id": "opmByH0CljFp",
        "outputId": "1cdfb4af-16a2-4522-e16e-90de021f0ce1"
      },
      "execution_count": 55,
      "outputs": [
        {
          "output_type": "stream",
          "name": "stdout",
          "text": [
            "rossa\n",
            "a\n"
          ]
        }
      ]
    },
    {
      "cell_type": "code",
      "source": [
        "#SLICING\n",
        "numeri = [1, 6, 7, 9]\n",
        "\n",
        "print(f\"La srtinga dal 3^ carattere al 7^ escluso: {numeri[3:7]}\") #dal 3 al 7 ESCLUSO\n",
        "print(f\"Tutta la stringa escluso il primo carattere e l'ultimo: {numeri[1:-1]}\")\n",
        "print(f\"Tutta la stringa escluso il primo carattere: {numeri[1:]}\") #ESCLUDE il primo e l'ultimo\n",
        "print(f\"Tutta la stringa escluso l'ultimo: {numeri[:-1]}\") #funziona anche se si mette 0 al posto di nulla\n",
        "print(f\"Tutta la stringa al contrario: {numeri[::-1]}\")\n",
        "print(numeri.pop()) #stampa l'ultimo elemento e lo toglie\n",
        "#.metodo (operazione sulla lista)"
      ],
      "metadata": {
        "colab": {
          "base_uri": "https://localhost:8080/"
        },
        "id": "C0a_3bY5jM63",
        "outputId": "5b987e9c-7671-43e5-b6be-aa2c27e929ef"
      },
      "execution_count": 50,
      "outputs": [
        {
          "output_type": "stream",
          "name": "stdout",
          "text": [
            "La srtinga dal 3^ carattere al 7^ escluso: [9]\n",
            "Tutta la stringa escluso il primo carattere e l'ultimo: [6, 7]\n",
            "Tutta la stringa escluso il primo carattere: [6, 7, 9]\n",
            "Tutta la stringa escluso l'ultimo: [1, 6, 7]\n",
            "Tutta la stringa al contrario: [9, 7, 6, 1]\n",
            "9\n"
          ]
        }
      ]
    },
    {
      "cell_type": "code",
      "source": [
        "print(len(numeri)) #da il numero di numeri\n",
        "print(sum(numeri)) #somma i numeri"
      ],
      "metadata": {
        "colab": {
          "base_uri": "https://localhost:8080/"
        },
        "id": "-6A-1__fk6t-",
        "outputId": "4b6940eb-abd9-483d-cc82-b7be8efc8c86"
      },
      "execution_count": 51,
      "outputs": [
        {
          "output_type": "stream",
          "name": "stdout",
          "text": [
            "3\n",
            "14\n"
          ]
        }
      ]
    },
    {
      "cell_type": "code",
      "source": [],
      "metadata": {
        "id": "M5pWJ3tayxpy"
      },
      "execution_count": null,
      "outputs": []
    }
  ]
}