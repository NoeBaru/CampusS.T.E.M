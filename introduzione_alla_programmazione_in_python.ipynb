{
  "cells": [
    {
      "cell_type": "markdown",
      "metadata": {
        "id": "view-in-github",
        "colab_type": "text"
      },
      "source": [
        "<a href=\"https://colab.research.google.com/github/NoeBaru/CampusS.T.E.M/blob/main/introduzione_alla_programmazione_in_python.ipynb\" target=\"_parent\"><img src=\"https://colab.research.google.com/assets/colab-badge.svg\" alt=\"Open In Colab\"/></a>"
      ]
    },
    {
      "cell_type": "markdown",
      "metadata": {
        "id": "xQGOs84znCev"
      },
      "source": [
        "# <center>Programma la tua prima rete neurale\n",
        "    \n",
        "![Python_logo_and_wordmark.svg.png](attachment:Python_logo_and_wordmark.svg.png)"
      ]
    },
    {
      "cell_type": "markdown",
      "metadata": {
        "id": "Z0lmXN9SnCex"
      },
      "source": [
        "<font color=\"orange\" size=5><center>Alessandro Cossard - Introduzione alla programmazione in Python </center></font>"
      ]
    },
    {
      "cell_type": "markdown",
      "metadata": {
        "id": "Y0mE14-znCex"
      },
      "source": [
        "# Tipi di dati"
      ]
    },
    {
      "cell_type": "code",
      "execution_count": null,
      "metadata": {
        "id": "4k3p7WfvnCex"
      },
      "outputs": [],
      "source": [
        "#int, float, str"
      ]
    },
    {
      "cell_type": "code",
      "execution_count": null,
      "metadata": {
        "id": "BI6yWZAmnCey"
      },
      "outputs": [],
      "source": [
        "print('ciao')"
      ]
    },
    {
      "cell_type": "code",
      "execution_count": null,
      "metadata": {
        "id": "pAGCAzccnCey"
      },
      "outputs": [],
      "source": [
        "x = 56"
      ]
    },
    {
      "cell_type": "code",
      "execution_count": null,
      "metadata": {
        "id": "QvyGbVuPnCey"
      },
      "outputs": [],
      "source": [
        "x"
      ]
    },
    {
      "cell_type": "code",
      "execution_count": null,
      "metadata": {
        "id": "_9oW_jvTnCey"
      },
      "outputs": [],
      "source": [
        "type(x)"
      ]
    },
    {
      "cell_type": "code",
      "execution_count": null,
      "metadata": {
        "id": "JtNGTPK1nCez"
      },
      "outputs": [],
      "source": [
        "y = 7.9"
      ]
    },
    {
      "cell_type": "code",
      "execution_count": null,
      "metadata": {
        "id": "6wUyt52jnCez"
      },
      "outputs": [],
      "source": [
        "y"
      ]
    },
    {
      "cell_type": "code",
      "execution_count": null,
      "metadata": {
        "id": "r2szAqFRnCez"
      },
      "outputs": [],
      "source": [
        "type(y)"
      ]
    },
    {
      "cell_type": "code",
      "execution_count": null,
      "metadata": {
        "id": "jWQlh8vynCez"
      },
      "outputs": [],
      "source": [
        "str1 = \"ciao\""
      ]
    },
    {
      "cell_type": "code",
      "execution_count": null,
      "metadata": {
        "id": "N1UJHU1xnCez"
      },
      "outputs": [],
      "source": [
        "str1"
      ]
    },
    {
      "cell_type": "code",
      "execution_count": null,
      "metadata": {
        "id": "tIxlXrWBnCez"
      },
      "outputs": [],
      "source": [
        "type(str1)"
      ]
    },
    {
      "cell_type": "code",
      "execution_count": null,
      "metadata": {
        "id": "-WU0N5dPnCe0"
      },
      "outputs": [],
      "source": [
        "#commenti\n",
        "#questo è un commento"
      ]
    },
    {
      "cell_type": "markdown",
      "metadata": {
        "id": "-OSnTRYYnCe0"
      },
      "source": [
        "# Stringhe"
      ]
    },
    {
      "cell_type": "code",
      "execution_count": null,
      "metadata": {
        "id": "C_KJkcWKnCe0"
      },
      "outputs": [],
      "source": [
        "parola1 = 'ciao'"
      ]
    },
    {
      "cell_type": "code",
      "execution_count": null,
      "metadata": {
        "id": "idPoQsvInCe0"
      },
      "outputs": [],
      "source": [
        "parola2 = \"mamma\""
      ]
    },
    {
      "cell_type": "code",
      "execution_count": null,
      "metadata": {
        "id": "g5iT4nNAnCe0"
      },
      "outputs": [],
      "source": [
        "type(parola1)"
      ]
    },
    {
      "cell_type": "code",
      "execution_count": null,
      "metadata": {
        "id": "W2ilHMWCnCe0"
      },
      "outputs": [],
      "source": [
        "frase = parola1 + ' ' +parola2"
      ]
    },
    {
      "cell_type": "code",
      "execution_count": null,
      "metadata": {
        "id": "WItR0QE8nCe0"
      },
      "outputs": [],
      "source": [
        "frase"
      ]
    },
    {
      "cell_type": "code",
      "execution_count": null,
      "metadata": {
        "id": "ugxObC4nnCe0"
      },
      "outputs": [],
      "source": [
        "parola1 * 2"
      ]
    },
    {
      "cell_type": "code",
      "execution_count": null,
      "metadata": {
        "id": "J9b3NGV-nCe0"
      },
      "outputs": [],
      "source": [
        "len(parola1)"
      ]
    },
    {
      "cell_type": "code",
      "execution_count": null,
      "metadata": {
        "id": "UnUq1CPunCe1"
      },
      "outputs": [],
      "source": [
        "parola1[0]"
      ]
    },
    {
      "cell_type": "code",
      "execution_count": null,
      "metadata": {
        "id": "qmjV8BAZnCe1"
      },
      "outputs": [],
      "source": [
        "frase.replace(\"mamma\", \"papà\")"
      ]
    },
    {
      "cell_type": "markdown",
      "metadata": {
        "id": "klwPDdubnCe1"
      },
      "source": [
        "# Liste"
      ]
    },
    {
      "cell_type": "code",
      "execution_count": null,
      "metadata": {
        "id": "xoumdU7GnCe1"
      },
      "outputs": [],
      "source": [
        "#liste: parentesi quadre"
      ]
    },
    {
      "cell_type": "code",
      "execution_count": null,
      "metadata": {
        "id": "Kfk-2MP-nCe1"
      },
      "outputs": [],
      "source": [
        "list1 = [\"qui\", \"quo\", \"qua\",\"paperino\"]"
      ]
    },
    {
      "cell_type": "code",
      "execution_count": null,
      "metadata": {
        "scrolled": true,
        "id": "PFm9-o8JnCe1"
      },
      "outputs": [],
      "source": [
        "print(list1)"
      ]
    },
    {
      "cell_type": "code",
      "execution_count": null,
      "metadata": {
        "id": "GDGpJVAPnCe1"
      },
      "outputs": [],
      "source": [
        "type(list1)"
      ]
    },
    {
      "cell_type": "code",
      "execution_count": null,
      "metadata": {
        "id": "2gZbuncdnCe1"
      },
      "outputs": [],
      "source": [
        "len(list1)"
      ]
    },
    {
      "cell_type": "code",
      "execution_count": null,
      "metadata": {
        "id": "5CGAVCrTnCe1"
      },
      "outputs": [],
      "source": [
        "list1[0]"
      ]
    },
    {
      "cell_type": "code",
      "execution_count": null,
      "metadata": {
        "id": "hbpukFimnCe1"
      },
      "outputs": [],
      "source": [
        "list1[-1]"
      ]
    },
    {
      "cell_type": "code",
      "execution_count": null,
      "metadata": {
        "id": "GkKpyqT5nCe1"
      },
      "outputs": [],
      "source": [
        "list1[2:]"
      ]
    },
    {
      "cell_type": "code",
      "execution_count": null,
      "metadata": {
        "id": "itP0SmP9nCe2"
      },
      "outputs": [],
      "source": [
        "list2 = [\"topolino\", \"minni\"]"
      ]
    },
    {
      "cell_type": "code",
      "execution_count": null,
      "metadata": {
        "id": "5CrMrSYLnCe2"
      },
      "outputs": [],
      "source": [
        "list3 = list1 + list2"
      ]
    },
    {
      "cell_type": "code",
      "execution_count": null,
      "metadata": {
        "id": "81SFcY9HnCe2"
      },
      "outputs": [],
      "source": [
        "print(list3)"
      ]
    },
    {
      "cell_type": "code",
      "execution_count": null,
      "metadata": {
        "id": "fT3BEz0PnCe2"
      },
      "outputs": [],
      "source": [
        "#liste con piu tipi di dati"
      ]
    },
    {
      "cell_type": "code",
      "execution_count": null,
      "metadata": {
        "id": "6pf3ihUznCe2"
      },
      "outputs": [],
      "source": [
        "list3.append(4)"
      ]
    },
    {
      "cell_type": "code",
      "execution_count": null,
      "metadata": {
        "id": "fvXCZV00nCe5"
      },
      "outputs": [],
      "source": [
        "print(list3)"
      ]
    },
    {
      "cell_type": "code",
      "execution_count": null,
      "metadata": {
        "id": "abNh-8S5nCe6"
      },
      "outputs": [],
      "source": [
        "list_num = [ 23, 34, 675, 132, 4, 786, 43, 12, 6]"
      ]
    },
    {
      "cell_type": "code",
      "execution_count": null,
      "metadata": {
        "id": "2qGnUxbMnCe7"
      },
      "outputs": [],
      "source": [
        "list_num.sort()"
      ]
    },
    {
      "cell_type": "code",
      "execution_count": null,
      "metadata": {
        "id": "dX7I1CYJnCe7"
      },
      "outputs": [],
      "source": [
        "list_num"
      ]
    },
    {
      "cell_type": "markdown",
      "metadata": {
        "id": "PSFc4c0inCe7"
      },
      "source": [
        "# Operazioni matematiche"
      ]
    },
    {
      "cell_type": "code",
      "execution_count": null,
      "metadata": {
        "id": "jNLUrZQWnCe7"
      },
      "outputs": [],
      "source": [
        "a = 2"
      ]
    },
    {
      "cell_type": "code",
      "execution_count": null,
      "metadata": {
        "id": "QZWUBIXlnCe7"
      },
      "outputs": [],
      "source": [
        "b = a + 5"
      ]
    },
    {
      "cell_type": "code",
      "execution_count": null,
      "metadata": {
        "id": "-hpoSuZenCe7"
      },
      "outputs": [],
      "source": [
        "b"
      ]
    },
    {
      "cell_type": "code",
      "execution_count": null,
      "metadata": {
        "id": "oQIpEU7fnCe8"
      },
      "outputs": [],
      "source": [
        "90+10"
      ]
    },
    {
      "cell_type": "code",
      "execution_count": null,
      "metadata": {
        "id": "qVF4QsqhnCe8"
      },
      "outputs": [],
      "source": [
        "56-6"
      ]
    },
    {
      "cell_type": "code",
      "execution_count": null,
      "metadata": {
        "id": "mxDnKK4LnCe8"
      },
      "outputs": [],
      "source": [
        "8*7"
      ]
    },
    {
      "cell_type": "code",
      "execution_count": null,
      "metadata": {
        "id": "9Pvrmm8PnCe8"
      },
      "outputs": [],
      "source": [
        "30/2"
      ]
    },
    {
      "cell_type": "code",
      "execution_count": null,
      "metadata": {
        "id": "S7zefBNNnCe8"
      },
      "outputs": [],
      "source": [
        "a = 2\n",
        "b = 3"
      ]
    },
    {
      "cell_type": "code",
      "execution_count": null,
      "metadata": {
        "id": "kQbVcUrKnCe8"
      },
      "outputs": [],
      "source": [
        "a > b"
      ]
    },
    {
      "cell_type": "code",
      "execution_count": null,
      "metadata": {
        "id": "rK-6B1hsnCe8"
      },
      "outputs": [],
      "source": [
        "a < b"
      ]
    },
    {
      "cell_type": "code",
      "execution_count": null,
      "metadata": {
        "id": "8mI9mG3MnCe8"
      },
      "outputs": [],
      "source": [
        "a == b"
      ]
    },
    {
      "cell_type": "code",
      "execution_count": null,
      "metadata": {
        "id": "19bsHYW1nCe8"
      },
      "outputs": [],
      "source": [
        "a != b"
      ]
    },
    {
      "cell_type": "code",
      "execution_count": null,
      "metadata": {
        "id": "9Dnw0w8JnCe9"
      },
      "outputs": [],
      "source": [
        "l = [0,1,2,3,4,5]"
      ]
    },
    {
      "cell_type": "code",
      "execution_count": null,
      "metadata": {
        "id": "zpitwLgWnCe9"
      },
      "outputs": [],
      "source": [
        "2 in l"
      ]
    },
    {
      "cell_type": "code",
      "execution_count": null,
      "metadata": {
        "id": "2fC2fKFInCe9"
      },
      "outputs": [],
      "source": [
        "6 in l"
      ]
    },
    {
      "cell_type": "code",
      "execution_count": null,
      "metadata": {
        "id": "fyVTyKhXnCe9"
      },
      "outputs": [],
      "source": [
        "3 < 4 and 4 > 3"
      ]
    },
    {
      "cell_type": "code",
      "execution_count": null,
      "metadata": {
        "id": "VlGeEqg7nCe9"
      },
      "outputs": [],
      "source": [
        "a < b & b > a"
      ]
    },
    {
      "cell_type": "code",
      "execution_count": null,
      "metadata": {
        "id": "mvNRiNJsnCe9"
      },
      "outputs": [],
      "source": [
        "a < b | b > a"
      ]
    },
    {
      "cell_type": "markdown",
      "metadata": {
        "id": "YSw01t3dnCe9"
      },
      "source": [
        "# Funzioni"
      ]
    },
    {
      "cell_type": "code",
      "execution_count": null,
      "metadata": {
        "id": "9LOH46kWnCe9"
      },
      "outputs": [],
      "source": [
        "#built in Vs User defined"
      ]
    },
    {
      "cell_type": "code",
      "execution_count": null,
      "metadata": {
        "id": "m6huxL0InCe9"
      },
      "outputs": [],
      "source": [
        "help(len)"
      ]
    },
    {
      "cell_type": "code",
      "execution_count": null,
      "metadata": {
        "id": "d0aFAhsdnCe-"
      },
      "outputs": [],
      "source": [
        "def moltiplica_xy(x, y):\n",
        "    return(x*y)"
      ]
    },
    {
      "cell_type": "code",
      "execution_count": null,
      "metadata": {
        "id": "PurvBbF4nCe-"
      },
      "outputs": [],
      "source": [
        "#fondamentale l'identazione (Tab)"
      ]
    },
    {
      "cell_type": "code",
      "execution_count": null,
      "metadata": {
        "id": "LFYtvJ1PnCe-"
      },
      "outputs": [],
      "source": [
        "moltiplica_xy(2, 2)"
      ]
    },
    {
      "cell_type": "markdown",
      "metadata": {
        "id": "YZnPf_i-nCe-"
      },
      "source": [
        "# Cicli"
      ]
    },
    {
      "cell_type": "code",
      "execution_count": null,
      "metadata": {
        "id": "SdVzw-bBnCe-"
      },
      "outputs": [],
      "source": [
        "a = 6\n",
        "b = 9"
      ]
    },
    {
      "cell_type": "code",
      "execution_count": null,
      "metadata": {
        "id": "4l5aA5s3nCe-"
      },
      "outputs": [],
      "source": [
        "if a > b:\n",
        "    print(\"a maggiore rispetto a b\")\n",
        "else:\n",
        "    print(\"a minore rispetto a b\")"
      ]
    },
    {
      "cell_type": "code",
      "execution_count": null,
      "metadata": {
        "id": "moBRVdm7nCe-"
      },
      "outputs": [],
      "source": [
        "for i in range(0,10):\n",
        "    print('ciao')"
      ]
    },
    {
      "cell_type": "markdown",
      "metadata": {
        "id": "JvuhUgMinCe-"
      },
      "source": [
        "# Plot"
      ]
    },
    {
      "cell_type": "code",
      "execution_count": null,
      "metadata": {
        "id": "3CayQssdnCe-"
      },
      "outputs": [],
      "source": [
        "import matplotlib.pyplot as plt\n",
        "import numpy as np"
      ]
    },
    {
      "cell_type": "code",
      "execution_count": null,
      "metadata": {
        "id": "qOOrUYAcnCe_"
      },
      "outputs": [],
      "source": [
        "t=np.arange(0,100)\n",
        "plt.plot(t,t**2)\n",
        "plt.show()"
      ]
    },
    {
      "cell_type": "code",
      "execution_count": null,
      "metadata": {
        "id": "9Znpkdu2nCe_"
      },
      "outputs": [],
      "source": [
        "t=np.arange(0,100)\n",
        "plt.scatter(t,t**2,color='red')\n",
        "plt.show()"
      ]
    },
    {
      "cell_type": "code",
      "execution_count": null,
      "metadata": {
        "id": "CvOpSWsHnCe_"
      },
      "outputs": [],
      "source": [
        "p = [1,2,3,4]\n",
        "q = [9,4,2,6]"
      ]
    },
    {
      "cell_type": "code",
      "execution_count": null,
      "metadata": {
        "id": "HO5YDhdNnCe_"
      },
      "outputs": [],
      "source": [
        "plt.plot(p,q)\n",
        "plt.show()"
      ]
    },
    {
      "cell_type": "code",
      "execution_count": null,
      "metadata": {
        "id": "Jhd5ueDQnCe_"
      },
      "outputs": [],
      "source": [
        "plt.scatter(p,q,c='r')\n",
        "plt.show()"
      ]
    },
    {
      "cell_type": "code",
      "execution_count": null,
      "metadata": {
        "id": "TB5-RTkSnCe_"
      },
      "outputs": [],
      "source": []
    }
  ],
  "metadata": {
    "kernelspec": {
      "display_name": "Python 3 (ipykernel)",
      "language": "python",
      "name": "python3"
    },
    "language_info": {
      "codemirror_mode": {
        "name": "ipython",
        "version": 3
      },
      "file_extension": ".py",
      "mimetype": "text/x-python",
      "name": "python",
      "nbconvert_exporter": "python",
      "pygments_lexer": "ipython3",
      "version": "3.8.12"
    },
    "colab": {
      "provenance": [],
      "include_colab_link": true
    }
  },
  "nbformat": 4,
  "nbformat_minor": 0
}