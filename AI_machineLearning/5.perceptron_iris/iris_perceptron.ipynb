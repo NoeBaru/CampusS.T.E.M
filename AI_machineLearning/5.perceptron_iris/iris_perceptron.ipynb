{
 "cells": [
  {
   "cell_type": "code",
   "execution_count": null,
   "id": "acd131a1",
   "metadata": {},
   "outputs": [],
   "source": [
    "import numpy as np\n",
    "import pandas as pd \n",
    "import matplotlib.pyplot as plt\n",
    "from sklearn.model_selection import train_test_split\n",
    "from sklearn.linear_model import Perceptron\n",
    "from sklearn.metrics import accuracy_score"
   ]
  },
  {
   "cell_type": "code",
   "execution_count": null,
   "id": "c91c6c46",
   "metadata": {},
   "outputs": [],
   "source": [
    "iris =  pd.read_csv('iris_dataset.csv', header = 0)"
   ]
  },
  {
   "cell_type": "code",
   "execution_count": null,
   "id": "f92afe42",
   "metadata": {},
   "outputs": [],
   "source": [
    "iris.columns = ['lunghezza_S', 'larghezza_S', 'lunghezza_P', 'larghezza_P', \"Classe\"]"
   ]
  },
  {
   "cell_type": "code",
   "execution_count": null,
   "id": "a350131c",
   "metadata": {},
   "outputs": [],
   "source": [
    "iris['Classe'].value_counts()"
   ]
  },
  {
   "cell_type": "code",
   "execution_count": null,
   "id": "9a00f6f7",
   "metadata": {},
   "outputs": [],
   "source": [
    "iris"
   ]
  },
  {
   "cell_type": "code",
   "execution_count": null,
   "id": "cd3f38c2",
   "metadata": {},
   "outputs": [],
   "source": [
    "#visualizzo in 2D\n",
    "colors = iris['Classe'].replace(to_replace=['Iris-setosa', 'Iris-virginica', 'Iris-versicolor'], \n",
    "                                value=['red', 'blue', 'green'])\n",
    "plt.scatter(iris['larghezza_S'], iris['larghezza_P'], c=colors)\n",
    "plt.show()"
   ]
  },
  {
   "cell_type": "code",
   "execution_count": null,
   "id": "62d301a2",
   "metadata": {},
   "outputs": [],
   "source": [
    "#posso tenere solo due classi"
   ]
  },
  {
   "cell_type": "code",
   "execution_count": null,
   "id": "0d698be6",
   "metadata": {},
   "outputs": [],
   "source": [
    "iris = iris.drop(iris[iris.Classe == 'Iris-setosa'].index)"
   ]
  },
  {
   "cell_type": "code",
   "execution_count": null,
   "id": "99f424d6",
   "metadata": {},
   "outputs": [],
   "source": [
    "#visualizzo in 2D\n",
    "colors = iris['Classe'].replace(to_replace=['Iris-setosa', 'Iris-virginica', 'Iris-versicolor'], \n",
    "                                value=['red', 'blue', 'green'])\n",
    "plt.scatter(iris['larghezza_S'], iris['larghezza_P'], c=colors)\n",
    "plt.show()"
   ]
  },
  {
   "cell_type": "code",
   "execution_count": null,
   "id": "7481f4cc",
   "metadata": {},
   "outputs": [],
   "source": [
    "labels =  iris['Classe']"
   ]
  },
  {
   "cell_type": "code",
   "execution_count": null,
   "id": "38459c02",
   "metadata": {},
   "outputs": [],
   "source": [
    "labels"
   ]
  },
  {
   "cell_type": "code",
   "execution_count": null,
   "id": "2c091e8b",
   "metadata": {},
   "outputs": [],
   "source": [
    "labels = labels.replace('Iris-versicolor',0).replace('Iris-virginica',1)"
   ]
  },
  {
   "cell_type": "code",
   "execution_count": null,
   "id": "104c4a6f",
   "metadata": {
    "scrolled": true
   },
   "outputs": [],
   "source": [
    "labels"
   ]
  },
  {
   "cell_type": "code",
   "execution_count": null,
   "id": "49da7c06",
   "metadata": {},
   "outputs": [],
   "source": [
    "iris"
   ]
  },
  {
   "cell_type": "code",
   "execution_count": null,
   "id": "a161254f",
   "metadata": {},
   "outputs": [],
   "source": [
    "iris = iris.drop('Classe',axis=1)"
   ]
  },
  {
   "cell_type": "code",
   "execution_count": null,
   "id": "19a62df1",
   "metadata": {},
   "outputs": [],
   "source": [
    "iris"
   ]
  },
  {
   "cell_type": "code",
   "execution_count": null,
   "id": "a95ad145",
   "metadata": {},
   "outputs": [],
   "source": [
    "x_train, x_test, y_train, y_test = train_test_split(iris, labels, test_size = 0.3)"
   ]
  },
  {
   "cell_type": "code",
   "execution_count": null,
   "id": "6f6cd0cd",
   "metadata": {},
   "outputs": [],
   "source": [
    "clf = Perceptron(tol=1e-3, random_state=0)\n",
    "clf.fit(x_train, y_train)"
   ]
  },
  {
   "cell_type": "code",
   "execution_count": null,
   "id": "1806e2f0",
   "metadata": {},
   "outputs": [],
   "source": [
    "y_pred = clf.predict(x_test)"
   ]
  },
  {
   "cell_type": "code",
   "execution_count": null,
   "id": "91c493d5",
   "metadata": {},
   "outputs": [],
   "source": [
    "y_pred"
   ]
  },
  {
   "cell_type": "code",
   "execution_count": null,
   "id": "547b50be",
   "metadata": {
    "scrolled": true
   },
   "outputs": [],
   "source": [
    "y_test"
   ]
  },
  {
   "cell_type": "code",
   "execution_count": null,
   "id": "ee5c4a41",
   "metadata": {},
   "outputs": [],
   "source": [
    "accuracy_score(y_test,y_pred)"
   ]
  },
  {
   "cell_type": "code",
   "execution_count": null,
   "id": "9f3737a7",
   "metadata": {},
   "outputs": [],
   "source": []
  }
 ],
 "metadata": {
  "kernelspec": {
   "display_name": "Python 3 (ipykernel)",
   "language": "python",
   "name": "python3"
  },
  "language_info": {
   "codemirror_mode": {
    "name": "ipython",
    "version": 3
   },
   "file_extension": ".py",
   "mimetype": "text/x-python",
   "name": "python",
   "nbconvert_exporter": "python",
   "pygments_lexer": "ipython3",
   "version": "3.8.12"
  }
 },
 "nbformat": 4,
 "nbformat_minor": 5
}
