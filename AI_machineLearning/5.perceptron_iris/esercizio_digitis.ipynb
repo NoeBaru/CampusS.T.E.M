{
 "cells": [
  {
   "cell_type": "code",
   "execution_count": 1,
   "id": "0615a991",
   "metadata": {},
   "outputs": [],
   "source": [
    "from sklearn.datasets import load_digits\n",
    "import numpy as np\n",
    "import pandas as pd \n",
    "import matplotlib.pyplot as plt\n",
    "from sklearn.model_selection import train_test_split\n",
    "from sklearn.linear_model import Perceptron\n",
    "from sklearn.metrics import accuracy_score"
   ]
  },
  {
   "cell_type": "code",
   "execution_count": null,
   "id": "b975df87",
   "metadata": {},
   "outputs": [],
   "source": [
    "#carica il database"
   ]
  },
  {
   "cell_type": "code",
   "execution_count": null,
   "id": "2f1f8d74",
   "metadata": {},
   "outputs": [],
   "source": [
    "#splitta train-test"
   ]
  },
  {
   "cell_type": "code",
   "execution_count": null,
   "id": "8ca6976b",
   "metadata": {},
   "outputs": [],
   "source": [
    "#crea il percetron\n",
    "#allenalo\n",
    "#valutalo"
   ]
  }
 ],
 "metadata": {
  "kernelspec": {
   "display_name": "Python 3 (ipykernel)",
   "language": "python",
   "name": "python3"
  },
  "language_info": {
   "codemirror_mode": {
    "name": "ipython",
    "version": 3
   },
   "file_extension": ".py",
   "mimetype": "text/x-python",
   "name": "python",
   "nbconvert_exporter": "python",
   "pygments_lexer": "ipython3",
   "version": "3.8.12"
  }
 },
 "nbformat": 4,
 "nbformat_minor": 5
}
