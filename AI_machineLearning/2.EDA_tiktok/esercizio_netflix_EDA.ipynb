{
 "cells": [
  {
   "cell_type": "code",
   "execution_count": 1,
   "id": "e28a0d68",
   "metadata": {},
   "outputs": [],
   "source": [
    "import numpy as np \n",
    "import pandas as pd\n",
    "import matplotlib.pyplot as plt\n",
    "import matplotlib.pyplot as plt"
   ]
  },
  {
   "cell_type": "code",
   "execution_count": 1,
   "id": "f6381a1a",
   "metadata": {},
   "outputs": [],
   "source": [
    "#importa il csv"
   ]
  },
  {
   "cell_type": "code",
   "execution_count": 2,
   "id": "fc942298",
   "metadata": {},
   "outputs": [],
   "source": [
    "#guarda le colonne"
   ]
  },
  {
   "cell_type": "code",
   "execution_count": 4,
   "id": "2f7f4831",
   "metadata": {},
   "outputs": [],
   "source": [
    "#usando la seguente sintassi, mostra il dataframe delle serie tv brasiliane\n",
    "#df[df['type']=='TV Show']"
   ]
  },
  {
   "cell_type": "code",
   "execution_count": 5,
   "id": "8581aec2",
   "metadata": {
    "scrolled": true
   },
   "outputs": [],
   "source": [
    "#calcola la media del relase year (funzione np.mean())"
   ]
  },
  {
   "cell_type": "code",
   "execution_count": 6,
   "id": "b89e3387",
   "metadata": {},
   "outputs": [],
   "source": [
    "#confronta con i valori italiani"
   ]
  },
  {
   "cell_type": "code",
   "execution_count": 7,
   "id": "b54a3a14",
   "metadata": {},
   "outputs": [],
   "source": [
    "#guarda qual è lo stato con piu serie tv e stampa i primi 20"
   ]
  },
  {
   "cell_type": "code",
   "execution_count": 8,
   "id": "87753c9e",
   "metadata": {},
   "outputs": [],
   "source": [
    "#plotta numero di FILM Vs la loro durata\n",
    "#ATTENZIONE che ci sono sia film che serie tv nel df"
   ]
  },
  {
   "cell_type": "code",
   "execution_count": 9,
   "id": "6c64f3f2",
   "metadata": {},
   "outputs": [],
   "source": [
    "#plotta numero di SERIE TV Vs il loro numero di stagioni"
   ]
  },
  {
   "cell_type": "code",
   "execution_count": null,
   "id": "c957ba67",
   "metadata": {},
   "outputs": [],
   "source": []
  }
 ],
 "metadata": {
  "kernelspec": {
   "display_name": "Python 3 (ipykernel)",
   "language": "python",
   "name": "python3"
  },
  "language_info": {
   "codemirror_mode": {
    "name": "ipython",
    "version": 3
   },
   "file_extension": ".py",
   "mimetype": "text/x-python",
   "name": "python",
   "nbconvert_exporter": "python",
   "pygments_lexer": "ipython3",
   "version": "3.8.12"
  }
 },
 "nbformat": 4,
 "nbformat_minor": 5
}
