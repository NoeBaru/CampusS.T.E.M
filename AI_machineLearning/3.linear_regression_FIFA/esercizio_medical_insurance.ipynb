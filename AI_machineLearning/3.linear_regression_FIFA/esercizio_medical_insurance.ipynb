{
 "cells": [
  {
   "cell_type": "code",
   "execution_count": null,
   "id": "56de26ad",
   "metadata": {},
   "outputs": [],
   "source": [
    "import pandas  as pd #Data manipulation\n",
    "import numpy as np #Data manipulation\n",
    "import matplotlib.pyplot as plt # Visualization\n",
    "from sklearn.model_selection import train_test_split\n",
    "from sklearn.linear_model import LinearRegression\n",
    "from sklearn.metrics import r2_score, mean_squared_error"
   ]
  },
  {
   "cell_type": "code",
   "execution_count": null,
   "id": "ebfec5f6",
   "metadata": {},
   "outputs": [],
   "source": [
    "plt.rcParams['figure.figsize'] = [8,5]\n",
    "plt.rcParams['font.size'] =14\n",
    "plt.rcParams['font.weight']= 'bold'\n",
    "plt.style.use('seaborn-whitegrid')"
   ]
  },
  {
   "cell_type": "code",
   "execution_count": null,
   "id": "e1a72a14",
   "metadata": {},
   "outputs": [],
   "source": [
    "#importa i dati in un dataframe"
   ]
  },
  {
   "cell_type": "code",
   "execution_count": null,
   "id": "08c22019",
   "metadata": {},
   "outputs": [],
   "source": [
    "#usa come x la bmi e come y la cherges e fai un plot"
   ]
  },
  {
   "cell_type": "code",
   "execution_count": null,
   "id": "ac54c156",
   "metadata": {},
   "outputs": [],
   "source": [
    "#fai una EDA come preferisci"
   ]
  },
  {
   "cell_type": "code",
   "execution_count": null,
   "id": "22eabdda",
   "metadata": {},
   "outputs": [],
   "source": [
    "#fai la regressione lineare solo su BMI e CHARGES\n",
    "\n",
    "#Attenzione che la regressione lineare richiede un vettore come X\n",
    "#quindi al posto di X_train usare np.array(X_train).reshape(-1,1)"
   ]
  },
  {
   "cell_type": "code",
   "execution_count": null,
   "id": "60979a52",
   "metadata": {},
   "outputs": [],
   "source": [
    "#stampa i coefficienti e plotta retta e punti insieme"
   ]
  },
  {
   "cell_type": "code",
   "execution_count": null,
   "id": "4e02b303",
   "metadata": {},
   "outputs": [],
   "source": [
    "#fai il predict e valuta il modello"
   ]
  },
  {
   "cell_type": "code",
   "execution_count": null,
   "id": "0f9547c7",
   "metadata": {},
   "outputs": [],
   "source": [
    "#procedi alla regressione multivariata su tutto il dataframe"
   ]
  },
  {
   "cell_type": "code",
   "execution_count": null,
   "id": "2946d4d8",
   "metadata": {},
   "outputs": [],
   "source": [
    "# passa in variabile dummy usando questi comandi\n",
    "categorical_columns = ['sex','children', 'smoker', 'region']\n",
    "df_encode = pd.get_dummies(data = df, prefix = 'OHE', prefix_sep='_',\n",
    "               columns = categorical_columns,\n",
    "               drop_first =True,\n",
    "              dtype='int8')"
   ]
  },
  {
   "cell_type": "code",
   "execution_count": null,
   "id": "b5c8d7ae",
   "metadata": {},
   "outputs": [],
   "source": [
    "#splitta in train e test\n",
    "#ATTENZIONE a togliere la label e passargliela come y!"
   ]
  },
  {
   "cell_type": "code",
   "execution_count": null,
   "id": "bf1dfa42",
   "metadata": {},
   "outputs": [],
   "source": [
    "#crea il modello, stampa i coefficienti, fai il predict e valuta la performance"
   ]
  },
  {
   "cell_type": "code",
   "execution_count": null,
   "id": "17ba87b6",
   "metadata": {},
   "outputs": [],
   "source": []
  }
 ],
 "metadata": {
  "kernelspec": {
   "display_name": "Python 3 (ipykernel)",
   "language": "python",
   "name": "python3"
  },
  "language_info": {
   "codemirror_mode": {
    "name": "ipython",
    "version": 3
   },
   "file_extension": ".py",
   "mimetype": "text/x-python",
   "name": "python",
   "nbconvert_exporter": "python",
   "pygments_lexer": "ipython3",
   "version": "3.8.12"
  }
 },
 "nbformat": 4,
 "nbformat_minor": 5
}
