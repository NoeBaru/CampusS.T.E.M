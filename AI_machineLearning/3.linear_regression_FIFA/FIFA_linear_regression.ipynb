{
 "cells": [
  {
   "attachments": {
    "640px-Fifa19.png": {
     "image/png": "[encoded data removed]"
    }
   },
   "cell_type": "markdown",
   "metadata": {},
   "source": [
    "# <center>Programma la tua prima rete neurale\n",
    "    \n",
    "![640px-Fifa19.png](attachment:640px-Fifa19.png)"
   ]
  },
  {
   "cell_type": "markdown",
   "metadata": {},
   "source": [
    "<font color=\"orange\" size=5><center>Alessandro Cossard - FIFA19: EDA and Linear Regression </center></font>"
   ]
  },
  {
   "cell_type": "code",
   "execution_count": null,
   "metadata": {
    "_uuid": "811c92d5bdd16908d19374080633c4e58df5e86e"
   },
   "outputs": [],
   "source": [
    "import numpy as np\n",
    "import pandas as pd\n",
    "import matplotlib.pyplot as plt\n",
    "from sklearn.model_selection import train_test_split\n",
    "from sklearn.linear_model import LinearRegression\n",
    "from sklearn.metrics import r2_score, mean_squared_error"
   ]
  },
  {
   "cell_type": "markdown",
   "metadata": {
    "_uuid": "30705200a9b99c13ccebe136f1dc3605896ed3ae"
   },
   "source": [
    "# 1. Pulizia dei dati"
   ]
  },
  {
   "cell_type": "code",
   "execution_count": null,
   "metadata": {},
   "outputs": [],
   "source": [
    "#from google.colab import files\n",
    "\n",
    "#uploaded = files.upload()"
   ]
  },
  {
   "cell_type": "code",
   "execution_count": null,
   "metadata": {
    "_cell_guid": "79c7e3d0-c299-4dcb-8224-4455121ee9b0",
    "_kg_hide-input": false,
    "_uuid": "d629ff2d2480ee46fbb7e2d37f6b5fab8052498a"
   },
   "outputs": [],
   "source": [
    "df=pd.read_csv('data.csv')"
   ]
  },
  {
   "cell_type": "code",
   "execution_count": null,
   "metadata": {},
   "outputs": [],
   "source": [
    "#from google.colab import files\n",
    " \n",
    "#uploaded = files.upload()"
   ]
  },
  {
   "cell_type": "code",
   "execution_count": null,
   "metadata": {
    "_kg_hide-input": true,
    "_uuid": "cc1b7ffc6efef227ccda85d576ec94700a27451e",
    "scrolled": true
   },
   "outputs": [],
   "source": [
    "df.head().T"
   ]
  },
  {
   "cell_type": "code",
   "execution_count": null,
   "metadata": {
    "_kg_hide-input": true,
    "_uuid": "ac02b91cddffa758c535227927702f681597a619"
   },
   "outputs": [],
   "source": [
    "df.columns"
   ]
  },
  {
   "cell_type": "code",
   "execution_count": null,
   "metadata": {
    "_kg_hide-input": true,
    "scrolled": true
   },
   "outputs": [],
   "source": [
    "df.describe().T"
   ]
  },
  {
   "cell_type": "code",
   "execution_count": null,
   "metadata": {
    "_uuid": "40b4429e659535113b7e94e62b4ab995a392e6bd"
   },
   "outputs": [],
   "source": [
    "df = df.drop(['Unnamed: 0','Photo','Flag','Club Logo','Loaned From','Release Clause','Joined'],axis=1)"
   ]
  },
  {
   "cell_type": "code",
   "execution_count": null,
   "metadata": {},
   "outputs": [],
   "source": []
  },
  {
   "cell_type": "markdown",
   "metadata": {
    "_uuid": "7b37c828c45fc60f2a8a9be714fa480ea2ad5bc9"
   },
   "source": [
    "# 2. Analisi esplorativa dei dati (EDA)"
   ]
  },
  {
   "cell_type": "code",
   "execution_count": null,
   "metadata": {
    "scrolled": true
   },
   "outputs": [],
   "source": [
    "df"
   ]
  },
  {
   "cell_type": "code",
   "execution_count": null,
   "metadata": {
    "_kg_hide-input": true,
    "_uuid": "1c322386ca72db1d91ae976bed163d5127f762df"
   },
   "outputs": [],
   "source": [
    "#Analisi sul numero di giocatori\n",
    "print('Numero di giocatori in ogni nazione :' + '\\n' + str(df['Nationality'].value_counts().head(10)))"
   ]
  },
  {
   "cell_type": "code",
   "execution_count": null,
   "metadata": {
    "_kg_hide-input": true,
    "_uuid": "b2d3951a9133d2dec8e90e54e59b65ab4b2ff2ee"
   },
   "outputs": [],
   "source": [
    "#Analisi sul giocatore\n",
    "print('Potenziale maggiore : '+str(df.loc[df['Potential'].idxmax()][1]))\n",
    "print('Miglior performance generale : '+str(df.loc[df['Overall'].idxmax()][1]))"
   ]
  },
  {
   "cell_type": "code",
   "execution_count": null,
   "metadata": {
    "_kg_hide-input": true,
    "_uuid": "f68ba4bd47736d9c32d3b48df1e8f2ce1e2391a9",
    "scrolled": true
   },
   "outputs": [],
   "source": [
    "#Adesso stampo il migliore per ogni categoria\n",
    "\n",
    "cols=['Crossing', 'Finishing', 'HeadingAccuracy', 'ShortPassing', 'Volleys',\n",
    "       'Dribbling', 'Curve', 'FKAccuracy', 'LongPassing', 'BallControl',\n",
    "       'Acceleration', 'SprintSpeed', 'Agility', 'Reactions', 'Balance',\n",
    "       'ShotPower', 'Jumping', 'Stamina', 'Strength', 'LongShots',\n",
    "       'Aggression', 'Interceptions', 'Positioning', 'Vision', 'Penalties',\n",
    "       'Composure', 'Marking', 'StandingTackle', 'SlidingTackle', 'GKDiving',\n",
    "       'GKHandling', 'GKKicking', 'GKPositioning', 'GKReflexes']\n",
    "\n",
    "i=0\n",
    "while i < len(cols):\n",
    "    print('Best {0} : {1}'.format(cols[i],df.loc[df[cols[i]].idxmax()][1]))\n",
    "    i += 1"
   ]
  },
  {
   "cell_type": "code",
   "execution_count": null,
   "metadata": {},
   "outputs": [],
   "source": [
    "#Il potenziale si abbassa con l'avanzare dell'età\n",
    "df.plot(x='Age', y='Potential', style='o',alpha=0.1)\n",
    "plt.show()"
   ]
  },
  {
   "cell_type": "code",
   "execution_count": null,
   "metadata": {},
   "outputs": [],
   "source": [
    "#stessa cosa per la velocità\n",
    "df.plot(x='Age', y='SprintSpeed', style='o',alpha=0.1)\n",
    "plt.show()"
   ]
  },
  {
   "cell_type": "code",
   "execution_count": null,
   "metadata": {},
   "outputs": [],
   "source": [
    "#con l'eta si migliora e poi si peggiora\n",
    "df.plot(x='Age', y='Overall', style='o',alpha=0.1)\n",
    "plt.show()"
   ]
  },
  {
   "cell_type": "code",
   "execution_count": null,
   "metadata": {},
   "outputs": [],
   "source": [
    "#accelerazione e sprint seguono una relazione lineare\n",
    "df.plot(x='Acceleration', y='SprintSpeed', style='o',alpha=0.1)\n",
    "plt.show()"
   ]
  },
  {
   "cell_type": "code",
   "execution_count": null,
   "metadata": {
    "scrolled": true
   },
   "outputs": [],
   "source": [
    "#meno banale che cross e dribling siano lineari\n",
    "df.plot(x='Crossing', y='Dribbling', style='o',alpha=0.1)\n",
    "plt.show()"
   ]
  },
  {
   "cell_type": "markdown",
   "metadata": {},
   "source": [
    "# 3. Modello a due variabili"
   ]
  },
  {
   "cell_type": "code",
   "execution_count": null,
   "metadata": {},
   "outputs": [],
   "source": [
    "#x\n",
    "speed = df['Acceleration']"
   ]
  },
  {
   "cell_type": "code",
   "execution_count": null,
   "metadata": {},
   "outputs": [],
   "source": [
    "speed"
   ]
  },
  {
   "cell_type": "code",
   "execution_count": null,
   "metadata": {},
   "outputs": [],
   "source": [
    "#y\n",
    "label = df.Overall"
   ]
  },
  {
   "cell_type": "code",
   "execution_count": null,
   "metadata": {},
   "outputs": [],
   "source": [
    "label"
   ]
  },
  {
   "cell_type": "code",
   "execution_count": null,
   "metadata": {},
   "outputs": [],
   "source": [
    "df_t = pd.DataFrame(speed)"
   ]
  },
  {
   "cell_type": "code",
   "execution_count": null,
   "metadata": {},
   "outputs": [],
   "source": [
    "df_t"
   ]
  },
  {
   "cell_type": "code",
   "execution_count": null,
   "metadata": {},
   "outputs": [],
   "source": [
    "df_t['label'] = label"
   ]
  },
  {
   "cell_type": "code",
   "execution_count": null,
   "metadata": {},
   "outputs": [],
   "source": [
    "df_t = df_t.dropna()"
   ]
  },
  {
   "cell_type": "code",
   "execution_count": null,
   "metadata": {},
   "outputs": [],
   "source": [
    "plt.scatter(df_t['Acceleration'], df_t['label'],color='r',alpha=0.01)\n",
    "plt.show()"
   ]
  },
  {
   "cell_type": "code",
   "execution_count": null,
   "metadata": {},
   "outputs": [],
   "source": [
    "X_train_two, X_test_two, y_train_two, y_test_two = train_test_split(df_t['Acceleration'], df_t['label'], \n",
    "                                                                    test_size=0.2)"
   ]
  },
  {
   "cell_type": "code",
   "execution_count": null,
   "metadata": {},
   "outputs": [],
   "source": [
    "#Alleno il modello\n",
    "\n",
    "model_two = LinearRegression()\n",
    "#model_two.fit(df_two.array.reshape(-1, 1) , label)\n",
    "model_two.fit(np.array(X_train_two).reshape(-1,1), y_train_two)\n",
    "print ('Coefficients = ', model_two.coef_, ', Intercept = ', model_two.intercept_)"
   ]
  },
  {
   "cell_type": "code",
   "execution_count": null,
   "metadata": {},
   "outputs": [],
   "source": [
    "#adesso posso plottarlo\n",
    "t=np.arange(0, 100, 0.001)\n",
    "\n",
    "plt.scatter(X_train_two, y_train_two ,color='r',alpha=0.01)\n",
    "plt.plot (t, t*0.09166291+60.46868291826634,color='b')\n",
    "plt.show()"
   ]
  },
  {
   "cell_type": "code",
   "execution_count": null,
   "metadata": {},
   "outputs": [],
   "source": [
    "pred = model_two.predict(X_test_two.array.reshape(-1, 1))"
   ]
  },
  {
   "cell_type": "code",
   "execution_count": null,
   "metadata": {},
   "outputs": [],
   "source": [
    "pred"
   ]
  },
  {
   "cell_type": "code",
   "execution_count": null,
   "metadata": {},
   "outputs": [],
   "source": [
    "#confronto il predict con le y di test\n",
    "\n",
    "plt.scatter(X_test_two, pred, color='g')\n",
    "plt.scatter(X_test_two, y_test_two,  color='r',alpha=0.01)\n",
    "plt.show()\n",
    "\n",
    "#chiaramente quelle verdi saranno tutte sulla retta della predizione\n",
    "#la differenza tra la predizione e quelle reali è indice di quanto il mio modello performa bene"
   ]
  },
  {
   "cell_type": "code",
   "execution_count": null,
   "metadata": {},
   "outputs": [],
   "source": [
    "print('r2 score: '+str(r2_score(y_test_two, pred)))"
   ]
  },
  {
   "cell_type": "code",
   "execution_count": null,
   "metadata": {},
   "outputs": [],
   "source": [
    "#il modello perfroma malissimo ma con una solo feature è normale, per questo si usano molti dati\n",
    "#lo scopo di usare due feature è solo la visualizzazione in 2D"
   ]
  },
  {
   "cell_type": "code",
   "execution_count": null,
   "metadata": {},
   "outputs": [],
   "source": []
  },
  {
   "cell_type": "markdown",
   "metadata": {},
   "source": [
    "# 4. Modello Multivariato"
   ]
  },
  {
   "cell_type": "code",
   "execution_count": null,
   "metadata": {},
   "outputs": [],
   "source": [
    "#rimetto tutti i dati\n",
    "df=pd.read_csv('data.csv')"
   ]
  },
  {
   "cell_type": "code",
   "execution_count": null,
   "metadata": {},
   "outputs": [],
   "source": [
    "df"
   ]
  },
  {
   "cell_type": "code",
   "execution_count": null,
   "metadata": {
    "_uuid": "cd2e6db524ecae1fbe983d3beae36a0ab4ab917a",
    "scrolled": true
   },
   "outputs": [],
   "source": [
    "#preparo i dati per la regressione lineare\n",
    "cols_rm = df.columns[28:54]\n",
    "df = df.drop(cols_rm, axis = 1)\n",
    "df = df.drop(['Unnamed: 0','ID','Photo','Flag','Club Logo','Jersey Number','Joined','Special','Loaned From','Body Type', 'Release Clause',\n",
    "               'Weight','Height','Contract Valid Until','Wage','Value','Name','Club'], axis = 1)\n",
    "df = df.dropna()\n",
    "df.head()"
   ]
  },
  {
   "cell_type": "code",
   "execution_count": null,
   "metadata": {},
   "outputs": [],
   "source": [
    "#assegano un valore numerico al parametro real face\n",
    "df['Real Face'] = df['Real Face'].apply(lambda x: x.replace('Yes','1'))\n",
    "df['Real Face'] = df['Real Face'].apply(lambda x: x.replace('No','0'))"
   ]
  },
  {
   "cell_type": "code",
   "execution_count": null,
   "metadata": {},
   "outputs": [],
   "source": [
    "#assegano un valore numerico al parametro piede preferito\n",
    "df['Preferred Foot'] = df['Preferred Foot'].apply(lambda x: x.replace('Right','1'))\n",
    "df['Preferred Foot'] = df['Preferred Foot'].apply(lambda x: x.replace('Left','0'))"
   ]
  },
  {
   "cell_type": "code",
   "execution_count": null,
   "metadata": {},
   "outputs": [],
   "source": [
    "#assegano un valore numerico al parametro nazione piu forte\n",
    "nationalities = df.Nationality.value_counts()\n",
    "l_nat = nationalities[nationalities > 250].index.tolist()\n",
    "\n",
    "for index, row in df.iterrows():\n",
    "    if df.Nationality[index] in l_nat:\n",
    "        df.Nationality[index] = 1\n",
    "    else:\n",
    "        df.Nationality[index] = 0"
   ]
  },
  {
   "cell_type": "code",
   "execution_count": null,
   "metadata": {
    "scrolled": true
   },
   "outputs": [],
   "source": [
    "for index, row in df.iterrows():\n",
    "    if df['Position'][index] == 'GK':\n",
    "        df['Position'][index] = 'GK'\n",
    "    elif ((df['Position'][index] == 'RB') | (df['Position'][index] == 'LB') | (df['Position'][index] == 'CB') | (df['Position'][index] == 'LCB') | (df['Position'][index] == 'RCB') | (df['Position'][index] == 'RWB') | (df['Position'][index] == 'LWB') ):\n",
    "        df['Position'][index] = 'DF'\n",
    "    elif ((df['Position'][index] == 'LDM') | (df['Position'][index] == 'CDM') | (df['Position'][index] == 'RDM')):\n",
    "        df['Position'][index] = 'DM'\n",
    "    elif ((df['Position'][index] == 'LM') | (df['Position'][index] == 'LCM') | (df['Position'][index] == 'CM') | (df['Position'][index] == 'RCM') | (df['Position'][index] == 'RM')):\n",
    "        df['Position'][index] = 'MF'\n",
    "    elif ((df['Position'][index] == 'LAM') | (df['Position'][index] == 'CAM') | (df['Position'][index] == 'RAM') | (df['Position'][index] == 'LW') | (df['Position'][index] == 'RW')):\n",
    "        df['Position'][index] = 'AM'\n",
    "    elif ((df['Position'][index] == 'RS') | (df['Position'][index] == 'ST') | (df['Position'] [index]== 'LS') | (df['Position'][index] == 'CF') | (df['Position'][index] == 'LF') | (df['Position'][index] == 'RF')):\n",
    "        df['Position'][index] = 'ST'"
   ]
  },
  {
   "cell_type": "code",
   "execution_count": null,
   "metadata": {},
   "outputs": [],
   "source": [
    "#Splitto in due il work rate perchè è doppio\n",
    "#WR = df[\"Work Rate\"].str.split(\"/ \", n = 1, expand = True) \n",
    "#df[\"Work Rate 1\"]= WR[0]   \n",
    "#df[\"Work Rate 2\"]= WR[1]\n",
    "#df = df.drop('Work Rate', axis = 1)"
   ]
  },
  {
   "cell_type": "code",
   "execution_count": null,
   "metadata": {},
   "outputs": [],
   "source": [
    "#l'overall è il target\n",
    "label = df.Overall\n",
    "df_feat = df.drop(['Overall'], axis = 1)"
   ]
  },
  {
   "cell_type": "code",
   "execution_count": null,
   "metadata": {},
   "outputs": [],
   "source": [
    "label"
   ]
  },
  {
   "cell_type": "code",
   "execution_count": null,
   "metadata": {},
   "outputs": [],
   "source": [
    "#Splitto train e test\n",
    "\n",
    "X_train, X_test, y_train, y_test = train_test_split(df_feat, label, test_size=0.2)"
   ]
  },
  {
   "cell_type": "code",
   "execution_count": null,
   "metadata": {
    "scrolled": true
   },
   "outputs": [],
   "source": [
    "X_train"
   ]
  },
  {
   "cell_type": "code",
   "execution_count": null,
   "metadata": {
    "scrolled": true
   },
   "outputs": [],
   "source": [
    "y_train"
   ]
  },
  {
   "cell_type": "code",
   "execution_count": null,
   "metadata": {
    "_uuid": "9a760917cd1fb0076675137dd1fc1f0d5c4c3c44"
   },
   "outputs": [],
   "source": [
    "#uso la funzione dummies per le variabili non numeriche\n",
    "X_train = pd.get_dummies(X_train)\n",
    "X_test = pd.get_dummies(X_test)"
   ]
  },
  {
   "cell_type": "code",
   "execution_count": null,
   "metadata": {},
   "outputs": [],
   "source": [
    "#Applying Linear Regression\n",
    "\n",
    "model = LinearRegression()\n",
    "model.fit(X_train, y_train)"
   ]
  },
  {
   "cell_type": "code",
   "execution_count": null,
   "metadata": {
    "_uuid": "7ff0576e6ece8c9a4f8616be448f0f2826e14f93"
   },
   "outputs": [],
   "source": [
    "#faccio il predict sulle x di test\n",
    "pred = model.predict(X_test)\n",
    "\n",
    "#guardo quanto si avvicinano a quelle reali di test\n",
    "print('r2 score: '+str(r2_score(y_test, pred)))\n",
    "\n",
    "#r2 si avvicina a 1, ottimo"
   ]
  },
  {
   "cell_type": "code",
   "execution_count": null,
   "metadata": {},
   "outputs": [],
   "source": []
  }
 ],
 "metadata": {
  "kernelspec": {
   "display_name": "Python 3 (ipykernel)",
   "language": "python",
   "name": "python3"
  },
  "language_info": {
   "codemirror_mode": {
    "name": "ipython",
    "version": 3
   },
   "file_extension": ".py",
   "mimetype": "text/x-python",
   "name": "python",
   "nbconvert_exporter": "python",
   "pygments_lexer": "ipython3",
   "version": "3.8.12"
  }
 },
 "nbformat": 4,
 "nbformat_minor": 4
}
