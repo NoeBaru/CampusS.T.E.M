{
  "nbformat": 4,
  "nbformat_minor": 0,
  "metadata": {
    "colab": {
      "provenance": [],
      "private_outputs": true,
      "include_colab_link": true
    },
    "kernelspec": {
      "name": "python3",
      "display_name": "Python 3"
    },
    "language_info": {
      "name": "python"
    }
  },
  "cells": [
    {
      "cell_type": "markdown",
      "metadata": {
        "id": "view-in-github",
        "colab_type": "text"
      },
      "source": [
        "<a href=\"https://colab.research.google.com/github/NoeBaru/CampusS.T.E.M/blob/main/Copia_di_4_Funzioni.ipynb\" target=\"_parent\"><img src=\"https://colab.research.google.com/assets/colab-badge.svg\" alt=\"Open In Colab\"/></a>"
      ]
    },
    {
      "cell_type": "markdown",
      "source": [
        "## ***Esercizio***\n",
        "\n",
        "Sei un ecologista e stai monitorando il consumo energetico di un edificio nel corso di un mese. Ogni giorno, annoti quanta energia viene consumata. Alla fine del mese, vuoi sapere in quali giorni l'energia consumata è stata superiore alla media mensile."
      ],
      "metadata": {
        "id": "GiZnM5-hAQZp"
      }
    },
    {
      "cell_type": "code",
      "execution_count": null,
      "metadata": {
        "id": "GJX3MYE4AHy-"
      },
      "outputs": [],
      "source": [
        "# Lista del consumo energetico giornaliero per 30 giorni (espressa in kWh).\n",
        "consumo_giornaliero = [50, 45, 60, 55, 65, 58, 52, 54, 62, 49,\n",
        "                       51, 55, 53, 66, 62, 48, 56, 59, 70, 57,\n",
        "                       53, 58, 54, 55, 63, 52, 58, 60, 61, 59]"
      ]
    },
    {
      "cell_type": "markdown",
      "source": [
        "Crea una funzione ``media_consumi()`` che prende in ingresso la lista di consumi giornialieri e restituisce un valore (numero reale) della media dei consumi."
      ],
      "metadata": {
        "id": "SjyKaTJHCIys"
      }
    },
    {
      "cell_type": "code",
      "source": [
        "def media_consumi(lista):\n",
        "  if len(lista) == 0:\n",
        "    return print(\"Errore lista nulla\")\n",
        "  return sum(lista) / len(lista)\n",
        "\n",
        "#media = media_consumi(consumo_giornaliero)\n",
        "print(f\"la media e': {media_consumi(consumo_giornaliero):.2f}\") #{media:.2f}"
      ],
      "metadata": {
        "id": "ucjhSPEJCqON"
      },
      "execution_count": null,
      "outputs": []
    },
    {
      "cell_type": "markdown",
      "source": [
        "Crea una funzione ``analisi_eccesso()`` che prende in ingresso la lista di consumi giornialieri e restituisce un dizionario che contiene, come **CHIAVI** i giorni e come **VALORE** i consumi dei giorni che hanno superato la media.\n",
        "\n",
        "Poi stampa il risultato.\n",
        "\n",
        "Esempio di output:\n",
        "\n",
        "Giorno 3 : 40 kWh"
      ],
      "metadata": {
        "id": "S9yWHNolC5LE"
      }
    },
    {
      "cell_type": "code",
      "source": [
        "def analisi_eccesso(consumo_giornaliero, media):\n",
        "  eccessi = {} #dizionario\n",
        "  cont = 0\n",
        "\n",
        "  for consumo in consumo_giornaliero:\n",
        "    if consumo > media:\n",
        "      eccessi[str(cont + 1)] = consumo #casting da int a string\n",
        "    cont += 1\n",
        "\n",
        "  return eccessi\n",
        "\n",
        "analisi_eccesso(consumo_giornaliero, media_consumi(consumo_giornaliero))"
      ],
      "metadata": {
        "id": "PcxRJtnzCyC1"
      },
      "execution_count": null,
      "outputs": []
    }
  ]
}