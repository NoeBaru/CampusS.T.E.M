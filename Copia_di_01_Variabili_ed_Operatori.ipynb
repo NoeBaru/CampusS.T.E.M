{
  "nbformat": 4,
  "nbformat_minor": 0,
  "metadata": {
    "colab": {
      "private_outputs": true,
      "provenance": [],
      "include_colab_link": true
    },
    "kernelspec": {
      "name": "python3",
      "display_name": "Python 3"
    },
    "language_info": {
      "name": "python"
    }
  },
  "cells": [
    {
      "cell_type": "markdown",
      "metadata": {
        "id": "view-in-github",
        "colab_type": "text"
      },
      "source": [
        "<a href=\"https://colab.research.google.com/github/NoeBaru/CampusS.T.E.M/blob/main/Copia_di_01_Variabili_ed_Operatori.ipynb\" target=\"_parent\"><img src=\"https://colab.research.google.com/assets/colab-badge.svg\" alt=\"Open In Colab\"/></a>"
      ]
    },
    {
      "cell_type": "markdown",
      "source": [
        "#Tipi Base"
      ],
      "metadata": {
        "id": "EP-2Df3TbeZd"
      }
    },
    {
      "cell_type": "code",
      "source": [
        "numero_intero = 12\n",
        "numero_reale = 3.14\n",
        "stringa = \"ciao\"\n",
        "booleano = False"
      ],
      "metadata": {
        "id": "ymXjAreLbfvv"
      },
      "execution_count": null,
      "outputs": []
    },
    {
      "cell_type": "markdown",
      "source": [
        "###***Esercizio 1***\n",
        "Stampa a video la somma delle due variabili numeriche definite nella cella precedente, la differenza, il prodotto. Prova anche a moltiplicare la stringa per il numero intero: cosa succede?"
      ],
      "metadata": {
        "id": "63mi5DP1by4X"
      }
    },
    {
      "cell_type": "code",
      "source": [
        "somma = float(numero_intero) + numero_reale\n",
        "print(somma)\n",
        "differenza = float(numero_intero) - numero_reale\n",
        "print(differenza)\n",
        "prodotto = stringa * numero_intero\n",
        "print(prodotto)\n",
        "#moltiplica per numero_intero volte la stringa"
      ],
      "metadata": {
        "id": "6VXIXvm0bnB8"
      },
      "execution_count": null,
      "outputs": []
    },
    {
      "cell_type": "markdown",
      "source": [
        "###***Esercizio 2***\n",
        "\n",
        "***Concatena*** una stringa con il tuo nome **tra le due** già definite nella cella sottostante e stampa a video il risultato\n",
        "\n",
        "(es. il risultato finale sarà: \"Ciao io sono Mario e sto imparando Python\")"
      ],
      "metadata": {
        "id": "FNZ6GIrrcIHv"
      }
    },
    {
      "cell_type": "code",
      "source": [
        "introduzione = \"Ciao, io sono \"\n",
        "finale = \" e sto imparando Python\"\n",
        "stringaOutput = introduzione + finale\n",
        "print(stringaOutput)\n",
        "#oppure\n",
        "print(f\"{introduzione}{finale}\")"
      ],
      "metadata": {
        "id": "AmeQqxvGb-pG"
      },
      "execution_count": null,
      "outputs": []
    },
    {
      "cell_type": "markdown",
      "source": [
        "###***Esercizio 3***\n",
        "\n",
        "Crea una lista contenente le tue 5 pizze preferite, poi stampa il terzo elemento."
      ],
      "metadata": {
        "id": "_xp9Iy9AL5xM"
      }
    },
    {
      "cell_type": "code",
      "source": [
        "lista = [\"margherita\", \"tonnoCipolle\", \"wurstel\", \"4formaggi\", \"4stagioni\"]\n",
        "\n",
        "for elemento in lista: #stampa la lista\n",
        "        print(f\"Elemento: {elemento}\")"
      ],
      "metadata": {
        "id": "AbspuEhgMJcG"
      },
      "execution_count": null,
      "outputs": []
    },
    {
      "cell_type": "markdown",
      "source": [
        "###***Esercizio 4***\n",
        "\n",
        "Rimuovi dalla lista precedente il primo elemento, poi stampa l'intera lista."
      ],
      "metadata": {
        "id": "LB8FlLyHaLK0"
      }
    },
    {
      "cell_type": "code",
      "source": [
        "lista = [\"margherita\", \"tonnoCipolle\", \"wurstel\", \"4formaggi\", \"4stagioni\"]\n",
        "\n",
        "lista[2] = lista.pop() #pop della variabile\n",
        "print(f\"Elemento: {lista}\")"
      ],
      "metadata": {
        "id": "1KU4ESgWaYAg"
      },
      "execution_count": null,
      "outputs": []
    },
    {
      "cell_type": "markdown",
      "source": [
        "###***Esercizio 5***\n",
        "\n",
        "Aggiungi in coda alla tua lista precedente un'altra pizza, poi stampa l'intera lista."
      ],
      "metadata": {
        "id": "zmT1_CI0aaDS"
      }
    },
    {
      "cell_type": "code",
      "source": [
        "lista.append(\"capricciosa\")\n",
        "print(lista)\n",
        "#al posto di\n",
        "stringa = \"capricciosa\"\n",
        "num = len(lista)\n",
        "for elemento in lista: #stampa la lista\n",
        "        if(lista[num - 1]):\n",
        "          lista[num - 1] = stringa\n",
        "        print(f\"Elemento: {elemento}\")"
      ],
      "metadata": {
        "id": "hbI0cy5FajM5"
      },
      "execution_count": null,
      "outputs": []
    },
    {
      "cell_type": "markdown",
      "source": [
        "###***Esercizio 6***\n",
        "Ordina la lista precedente per ordine alfabetico (se non sai come fare, prova a cercare su Google) e stampa tutti gli elementi tranne il primo e l'ultimo."
      ],
      "metadata": {
        "id": "7XtcgsOmbJxj"
      }
    },
    {
      "cell_type": "code",
      "source": [
        "lista.sort()\n",
        "print(lista[:-1])"
      ],
      "metadata": {
        "id": "XDTPSKrrbO9c"
      },
      "execution_count": null,
      "outputs": []
    },
    {
      "cell_type": "markdown",
      "source": [
        "###***Esercizio 7***\n",
        "\n",
        "Crea un **dizionario** contenente queste 2 **chiavi**: Italia, USA\n",
        "\n",
        "poi associa come **valore** ad ognuna delle chiavi una **lista** di città di quel rispettivo paese con almeno 3 elementi per lista\n",
        "\n",
        "poi stampa, **usando il dizionario**, il secondo elemento della lista associata alla chiave \"USA\""
      ],
      "metadata": {
        "id": "YwWSscKCbeX6"
      }
    },
    {
      "cell_type": "code",
      "source": [
        "dizionarioIT = {}\n",
        "dizionarioUSA = {}\n",
        "\n",
        "dizionarioIT[\"Italia\"] = [\"Piemonte\", \"Lombardia\", \"Liguria\"]\n",
        "dizionarioUSA[\"USA\"] = [\"Detroit\", \"New York\", \"Miami\"]\n",
        "print(dizionarioUSA[\"USA\"][1])"
      ],
      "metadata": {
        "id": "jOgzelMGbf1j"
      },
      "execution_count": null,
      "outputs": []
    },
    {
      "cell_type": "code",
      "source": [],
      "metadata": {
        "id": "3cE7eEqy3FG9"
      },
      "execution_count": null,
      "outputs": []
    }
  ]
}