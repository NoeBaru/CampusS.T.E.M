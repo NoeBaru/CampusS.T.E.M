{
  "nbformat": 4,
  "nbformat_minor": 0,
  "metadata": {
    "colab": {
      "provenance": [],
      "include_colab_link": true
    },
    "kernelspec": {
      "name": "python3",
      "display_name": "Python 3"
    },
    "language_info": {
      "name": "python"
    }
  },
  "cells": [
    {
      "cell_type": "markdown",
      "metadata": {
        "id": "view-in-github",
        "colab_type": "text"
      },
      "source": [
        "<a href=\"https://colab.research.google.com/github/NoeBaru/CampusS.T.E.M/blob/main/Copia_di_02_If_Else_Elif.ipynb\" target=\"_parent\"><img src=\"https://colab.research.google.com/assets/colab-badge.svg\" alt=\"Open In Colab\"/></a>"
      ]
    },
    {
      "cell_type": "markdown",
      "source": [
        "# Riepilogo\n",
        "## If / Else / Elif\n",
        "\n",
        "Questi sono strutture di controllo di **selezione** che permettono di scegliere se eseguire **una parte** di un algoritmo piuttosto di un'altra.\n",
        "\n",
        "## If\n",
        "---\n",
        "Il blocco di istruzioni associato ad un ``if`` viene eseguito **solo se** la condizione dell'``if`` è **vera**.\n",
        "\n",
        "La sintassi in Python è:\n",
        "\n",
        "```\n",
        "if (condizione):\n",
        "  istruzione\n",
        "  istruzione\n",
        "  istruzione\n",
        "  ...\n",
        "```\n",
        "\n",
        "##**NOTA**: Ricordate che in Python l'**identazione** (il \"rientro\" del testo da comporre con il tasto ``TAB``) fa parte della sintassi del linguaggio ed identifica il corpo di un ``if`` (o in generale di tanti altri costrutti del linguaggio), **prestate attenzione!**##\n",
        "\n",
        "Possono esserci diversi blocchi di ``if``, ognuno associato ad una condizione.\n",
        "\n",
        "## Else\n",
        "---\n",
        "Un ``else`` non può esistere senza un corrispettivo ``if``: il blocco di istruzioni associato all'``else`` viene eseguito **solo se** la condizione associata all'``if`` è **falsa**.\n",
        "\n",
        "**NON E' OBBLIGATORIO AVERE UN ``else`` DOPO OGNI IF!**\n",
        "\n",
        "La sintassi diventa:\n",
        "\n",
        "```\n",
        "if (condizione):\n",
        "  istruzioni\n",
        "  eseguite se\n",
        "  (condizione) vera\n",
        "\n",
        "else:\n",
        "  istruzioni\n",
        "  eseguite se\n",
        "  condizione falsa\n",
        "```\n",
        "\n",
        "## Elif\n",
        "---\n",
        "Infine, l'``elif`` può essere usato per **controllare più di una condizione** prima di terminare la selezione. Un eventuale ``else`` può essere inserito per eseguire delle istruzioni **se e solo se ogni precedente condizione è risultata falsa**.\n",
        "\n",
        "La sintassi diventa:\n",
        "\n",
        "```\n",
        "if (condizione 1):\n",
        "  istruzioni eseguite\n",
        "  se (condizione 1) vera\n",
        "\n",
        "elif (condizione 2):\n",
        "  istruzioni eseguite\n",
        "  se (condizione 2) vera\n",
        "  e (condizione 1) falsa\n",
        "\n",
        "elif (condizione 3):\n",
        "  istruzioni eseguite\n",
        "  se (condizione 3) vera\n",
        "  e (condizione 2) falsa\n",
        "  e (condizione 1) false\n",
        "\n",
        "[...]\n",
        "\n",
        "elif (condizione n):\n",
        "  istruzioni eseguite\n",
        "  se (condizione n) vera\n",
        "  e tutte le altre (n-1)\n",
        "  condizioni erano false\n",
        "\n",
        "else:\n",
        "  istruzioni eseguite\n",
        "  solo se tutte le (n)\n",
        "  condizioni erano false\n",
        "```\n",
        "## Operatori Booleani:\n",
        "---\n",
        "###`a AND b` - L'espressione è **vera** se e solo se **sia a che b sono vere**\n",
        "###`a OR b` - L'espressione è **vera** se *almeno una tra a e b è vera*\n",
        "### `NOT a` - Se a è vera l'espressione è falsa e viceversa"
      ],
      "metadata": {
        "id": "-dCkNrJ0cTHc"
      }
    },
    {
      "cell_type": "markdown",
      "source": [
        "###***Esercizio 1***\n",
        "\n",
        "Leggi il codice nella cella seguente, e cerca di capire quali ``print`` verranno eseguite. Poi eseguilo e verifica le tue ipotesi.\n"
      ],
      "metadata": {
        "id": "0UKNypIxgcSh"
      }
    },
    {
      "cell_type": "code",
      "source": [
        "x = 10\n",
        "y = 20\n",
        "z = -5.15\n",
        "\n",
        "if (x < y):\n",
        "  print(\"UNO\")\n",
        "\n",
        "if (z < (x + y)):\n",
        "  print(\"DUE\")\n",
        "\n",
        "else:\n",
        "  print(\"TRE\")"
      ],
      "metadata": {
        "id": "YSM6daIqgbQL"
      },
      "execution_count": null,
      "outputs": []
    },
    {
      "cell_type": "markdown",
      "source": [
        "###***Esercizio 2***\n",
        "\n",
        "Crea due liste, ``data1`` e ``data2``, riempi la prima con 5 numeri **interi** e la seconda con 5 numeri **reali con la virgola**. Calcola **la media** di entrambe le liste e poi stampa un messaggio se la media di ``data1`` è maggliore, minore o uguale di ``data2``.\n",
        "\n",
        "**Ricorda**: La media artimetica di $n$ elementi $a_1 ... a_n$ è $\\frac{\\sum_{i=1}^{n} a_i}{n}$, cioè somma degli elementi fratto il numero di elementi (o *cardinalità*).\n",
        "\n",
        "La somma di una lista in Python è ``sum(lista)`` mentre la cardinalità di una lista è ``len(lista)``.\n"
      ],
      "metadata": {
        "id": "z2wYrXNr2Huj"
      }
    },
    {
      "cell_type": "code",
      "source": [
        "#Scrivi qui il tuo codice"
      ],
      "metadata": {
        "id": "YGirLd1gBhyX"
      },
      "execution_count": null,
      "outputs": []
    }
  ]
}