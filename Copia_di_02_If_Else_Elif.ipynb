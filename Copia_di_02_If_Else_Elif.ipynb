{
  "nbformat": 4,
  "nbformat_minor": 0,
  "metadata": {
    "colab": {
      "provenance": [],
      "include_colab_link": true
    },
    "kernelspec": {
      "name": "python3",
      "display_name": "Python 3"
    },
    "language_info": {
      "name": "python"
    }
  },
  "cells": [
    {
      "cell_type": "markdown",
      "metadata": {
        "id": "view-in-github",
        "colab_type": "text"
      },
      "source": [
        "<a href=\"https://colab.research.google.com/github/NoeBaru/CampusS.T.E.M/blob/main/Copia_di_02_If_Else_Elif.ipynb\" target=\"_parent\"><img src=\"https://colab.research.google.com/assets/colab-badge.svg\" alt=\"Open In Colab\"/></a>"
      ]
    },
    {
      "cell_type": "markdown",
      "source": [
        "# Riepilogo\n",
        "## If / Else / Elif\n",
        "\n",
        "Questi sono strutture di controllo di **selezione** che permettono di scegliere se eseguire **una parte** di un algoritmo piuttosto di un'altra.\n",
        "\n",
        "## If\n",
        "---\n",
        "Il blocco di istruzioni associato ad un ``if`` viene eseguito **solo se** la condizione dell'``if`` è **vera**.\n",
        "\n",
        "La sintassi in Python è:\n",
        "\n",
        "```\n",
        "if (condizione):\n",
        "  istruzione\n",
        "  istruzione\n",
        "  istruzione\n",
        "  ...\n",
        "```\n",
        "\n",
        "##**NOTA**: Ricordate che in Python l'**identazione** (il \"rientro\" del testo da comporre con il tasto ``TAB``) fa parte della sintassi del linguaggio ed identifica il corpo di un ``if`` (o in generale di tanti altri costrutti del linguaggio), **prestate attenzione!**##\n",
        "\n",
        "Possono esserci diversi blocchi di ``if``, ognuno associato ad una condizione.\n",
        "\n",
        "## Else\n",
        "---\n",
        "Un ``else`` non può esistere senza un corrispettivo ``if``: il blocco di istruzioni associato all'``else`` viene eseguito **solo se** la condizione associata all'``if`` è **falsa**.\n",
        "\n",
        "**NON E' OBBLIGATORIO AVERE UN ``else`` DOPO OGNI IF!**\n",
        "\n",
        "La sintassi diventa:\n",
        "\n",
        "```\n",
        "if (condizione):\n",
        "  istruzioni\n",
        "  eseguite se\n",
        "  (condizione) vera\n",
        "\n",
        "else:\n",
        "  istruzioni\n",
        "  eseguite se\n",
        "  condizione falsa\n",
        "```\n",
        "\n",
        "## Elif\n",
        "---\n",
        "Infine, l'``elif`` può essere usato per **controllare più di una condizione** prima di terminare la selezione. Un eventuale ``else`` può essere inserito per eseguire delle istruzioni **se e solo se ogni precedente condizione è risultata falsa**.\n",
        "\n",
        "La sintassi diventa:\n",
        "\n",
        "```\n",
        "if (condizione 1):\n",
        "  istruzioni eseguite\n",
        "  se (condizione 1) vera\n",
        "\n",
        "elif (condizione 2):\n",
        "  istruzioni eseguite\n",
        "  se (condizione 2) vera\n",
        "  e (condizione 1) falsa\n",
        "\n",
        "elif (condizione 3):\n",
        "  istruzioni eseguite\n",
        "  se (condizione 3) vera\n",
        "  e (condizione 2) falsa\n",
        "  e (condizione 1) false\n",
        "\n",
        "[...]\n",
        "\n",
        "elif (condizione n):\n",
        "  istruzioni eseguite\n",
        "  se (condizione n) vera\n",
        "  e tutte le altre (n-1)\n",
        "  condizioni erano false\n",
        "\n",
        "else:\n",
        "  istruzioni eseguite\n",
        "  solo se tutte le (n)\n",
        "  condizioni erano false\n",
        "```\n",
        "## Operatori Booleani:\n",
        "---\n",
        "###`a AND b` - L'espressione è **vera** se e solo se **sia a che b sono vere**\n",
        "###`a OR b` - L'espressione è **vera** se *almeno una tra a e b è vera*\n",
        "### `NOT a` - Se a è vera l'espressione è falsa e viceversa"
      ],
      "metadata": {
        "id": "-dCkNrJ0cTHc"
      }
    },
    {
      "cell_type": "markdown",
      "source": [
        "###***Esercizio 1***\n",
        "\n",
        "Leggi il codice nella cella seguente, e cerca di capire quali ``print`` verranno eseguite. Poi eseguilo e verifica le tue ipotesi.\n"
      ],
      "metadata": {
        "id": "0UKNypIxgcSh"
      }
    },
    {
      "cell_type": "code",
      "source": [
        "x = 10\n",
        "y = 20\n",
        "z = -5.15\n",
        "\n",
        "if (x < y):\n",
        "  print(\"UNO\")\n",
        "\n",
        "if (z < (x + y)):\n",
        "  print(\"DUE\")\n",
        "\n",
        "else:\n",
        "  print(\"TRE\")"
      ],
      "metadata": {
        "id": "YSM6daIqgbQL",
        "colab": {
          "base_uri": "https://localhost:8080/"
        },
        "outputId": "1f43918b-85f8-427a-dae0-dedbe5d7dceb"
      },
      "execution_count": 1,
      "outputs": [
        {
          "output_type": "stream",
          "name": "stdout",
          "text": [
            "UNO\n",
            "DUE\n"
          ]
        }
      ]
    },
    {
      "cell_type": "markdown",
      "source": [
        "###***Esercizio 2***\n",
        "\n",
        "Crea due liste, ``data1`` e ``data2``, riempi la prima con 5 numeri **interi** e la seconda con 5 numeri **reali con la virgola**. Calcola **la media** di entrambe le liste e poi stampa un messaggio se la media di ``data1`` è maggliore, minore o uguale di ``data2``.\n",
        "\n",
        "**Ricorda**: La media artimetica di $n$ elementi $a_1 ... a_n$ è $\\frac{\\sum_{i=1}^{n} a_i}{n}$, cioè somma degli elementi fratto il numero di elementi (o *cardinalità*).\n",
        "\n",
        "La somma di una lista in Python è ``sum(lista)`` mentre la cardinalità di una lista è ``len(lista)``.\n"
      ],
      "metadata": {
        "id": "z2wYrXNr2Huj"
      }
    },
    {
      "cell_type": "code",
      "source": [
        "data1 = [0, 1, 2, 3, 4]\n",
        "data2 = [0.0, 1.1, 2.2, 3.3, 4.4]\n",
        "\n",
        "\n",
        "media1 = sum(data1) / len(data1)\n",
        "media2 = sum(data2) / len(data2)\n",
        "\n",
        "if (data1 > data2):\n",
        "  print(f\"La media {media1:.2f} e' maggiore di {media2:.2f}\")\n",
        "elif (data1 == data2):\n",
        "  print(f\"La media {media1:.2f} e' uguale di {media2:.2f}\")\n",
        "elif (data1 < data2):\n",
        "  print(f\"La media {media1:.2f} e' minore di {media2:.2f}\")"
      ],
      "metadata": {
        "id": "YGirLd1gBhyX",
        "colab": {
          "base_uri": "https://localhost:8080/"
        },
        "outputId": "7b27d8dc-5323-45c3-9394-22bfa053cafe"
      },
      "execution_count": 8,
      "outputs": [
        {
          "output_type": "stream",
          "name": "stdout",
          "text": [
            "La media 2.00 e' minore di 2.20\n"
          ]
        }
      ]
    }
  ]
}