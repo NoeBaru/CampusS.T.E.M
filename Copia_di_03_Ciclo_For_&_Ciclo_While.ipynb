{
  "nbformat": 4,
  "nbformat_minor": 0,
  "metadata": {
    "colab": {
      "provenance": [],
      "include_colab_link": true
    },
    "kernelspec": {
      "name": "python3",
      "display_name": "Python 3"
    },
    "language_info": {
      "name": "python"
    }
  },
  "cells": [
    {
      "cell_type": "markdown",
      "metadata": {
        "id": "view-in-github",
        "colab_type": "text"
      },
      "source": [
        "<a href=\"https://colab.research.google.com/github/NoeBaru/CampusS.T.E.M/blob/main/Copia_di_03_Ciclo_For_%26_Ciclo_While.ipynb\" target=\"_parent\"><img src=\"https://colab.research.google.com/assets/colab-badge.svg\" alt=\"Open In Colab\"/></a>"
      ]
    },
    {
      "cell_type": "markdown",
      "source": [
        "###***Esercizio 1***\n",
        "\n",
        "Crea una lista di 10 elementi e trova il minimo elemento all'interno della lista usando un ciclo ``for`` (**non** usando il metodo ``min()`` di Python!)"
      ],
      "metadata": {
        "id": "gaqveG3nD6n2"
      }
    },
    {
      "cell_type": "code",
      "execution_count": 17,
      "metadata": {
        "id": "owGa_9vyD1JX",
        "colab": {
          "base_uri": "https://localhost:8080/"
        },
        "outputId": "6b6eaa43-2c83-445d-d48b-aa78d0d4ddff"
      },
      "outputs": [
        {
          "output_type": "stream",
          "name": "stdout",
          "text": [
            "0\n"
          ]
        }
      ],
      "source": [
        "lista = [1, 2, 3, 4, 5, 6, 7, 8, 9, 0]\n",
        "min = lista[0]\n",
        "for elemento in lista[1:]: #stampa la lista\n",
        "  if elemento < min:\n",
        "    min = elemento\n",
        "print(min)"
      ]
    },
    {
      "cell_type": "markdown",
      "source": [
        "###***Esercizio 1 - bis***\n",
        "\n",
        "Riscrivi la soluzione dell'esercizio precedente usando il ciclo ``while`` invece del ciclo ``for``"
      ],
      "metadata": {
        "id": "fgUp6LSFFHKN"
      }
    },
    {
      "cell_type": "code",
      "source": [
        "lista = [1, 2, 3, 4, 5, 6, 7, 8, 9, 0]\n",
        "\n",
        "min = lista[0]\n",
        "num = len(lista)\n",
        "cont = 0\n",
        "\n",
        "while cont < num: #stampa la lista\n",
        "  if lista[cont] < min:\n",
        "    min = lista[cont]\n",
        "  cont += 1\n",
        "print(min)"
      ],
      "metadata": {
        "id": "A352HrMeEhrH",
        "colab": {
          "base_uri": "https://localhost:8080/"
        },
        "outputId": "9aa48d22-b998-4fd5-83df-f3793e54d0a8"
      },
      "execution_count": 16,
      "outputs": [
        {
          "output_type": "stream",
          "name": "stdout",
          "text": [
            "0\n"
          ]
        }
      ]
    },
    {
      "cell_type": "markdown",
      "source": [
        "Esercizio 2\n",
        "Scrivi la funzione massimo"
      ],
      "metadata": {
        "id": "pp6F2FLXEqE6"
      }
    },
    {
      "cell_type": "code",
      "source": [
        "def massimo(): #funzione che fa la somma\n",
        "lista = [1, 2, 3, 4]\n",
        "  max = lista[0]\n",
        "  for elemento in lista:\n",
        "    if lista[elemento] > max:\n",
        "      max = lista[elemento]\n",
        "  return max\n",
        "\n",
        "max = massimo(lista)\n",
        "print(f\"Il massimo e': {max}\")"
      ],
      "metadata": {
        "colab": {
          "base_uri": "https://localhost:8080/",
          "height": 349
        },
        "id": "Onb4zovhE3av",
        "outputId": "788ec118-00c2-4bb7-fe0c-462a182c67aa"
      },
      "execution_count": 21,
      "outputs": [
        {
          "output_type": "error",
          "ename": "IndexError",
          "evalue": "ignored",
          "traceback": [
            "\u001b[0;31m---------------------------------------------------------------------------\u001b[0m",
            "\u001b[0;31mIndexError\u001b[0m                                Traceback (most recent call last)",
            "\u001b[0;32m<ipython-input-21-76d95e416f15>\u001b[0m in \u001b[0;36m<cell line: 10>\u001b[0;34m()\u001b[0m\n\u001b[1;32m      8\u001b[0m \u001b[0mlista\u001b[0m \u001b[0;34m=\u001b[0m \u001b[0;34m[\u001b[0m\u001b[0;36m1\u001b[0m\u001b[0;34m,\u001b[0m \u001b[0;36m2\u001b[0m\u001b[0;34m,\u001b[0m \u001b[0;36m3\u001b[0m\u001b[0;34m,\u001b[0m \u001b[0;36m4\u001b[0m\u001b[0;34m]\u001b[0m\u001b[0;34m\u001b[0m\u001b[0;34m\u001b[0m\u001b[0m\n\u001b[1;32m      9\u001b[0m \u001b[0;34m\u001b[0m\u001b[0m\n\u001b[0;32m---> 10\u001b[0;31m \u001b[0mmax\u001b[0m \u001b[0;34m=\u001b[0m \u001b[0mmassimo\u001b[0m\u001b[0;34m(\u001b[0m\u001b[0mlista\u001b[0m\u001b[0;34m)\u001b[0m\u001b[0;34m\u001b[0m\u001b[0;34m\u001b[0m\u001b[0m\n\u001b[0m\u001b[1;32m     11\u001b[0m \u001b[0mprint\u001b[0m\u001b[0;34m(\u001b[0m\u001b[0;34mf\"Il massimo e': {max}\"\u001b[0m\u001b[0;34m)\u001b[0m\u001b[0;34m\u001b[0m\u001b[0;34m\u001b[0m\u001b[0m\n",
            "\u001b[0;32m<ipython-input-21-76d95e416f15>\u001b[0m in \u001b[0;36mmassimo\u001b[0;34m(lista)\u001b[0m\n\u001b[1;32m      2\u001b[0m   \u001b[0mmax\u001b[0m \u001b[0;34m=\u001b[0m \u001b[0mlista\u001b[0m\u001b[0;34m[\u001b[0m\u001b[0;36m0\u001b[0m\u001b[0;34m]\u001b[0m\u001b[0;34m\u001b[0m\u001b[0;34m\u001b[0m\u001b[0m\n\u001b[1;32m      3\u001b[0m   \u001b[0;32mfor\u001b[0m \u001b[0melemento\u001b[0m \u001b[0;32min\u001b[0m \u001b[0mlista\u001b[0m\u001b[0;34m:\u001b[0m\u001b[0;34m\u001b[0m\u001b[0;34m\u001b[0m\u001b[0m\n\u001b[0;32m----> 4\u001b[0;31m     \u001b[0;32mif\u001b[0m \u001b[0mlista\u001b[0m\u001b[0;34m[\u001b[0m\u001b[0melemento\u001b[0m\u001b[0;34m]\u001b[0m \u001b[0;34m>\u001b[0m \u001b[0mmax\u001b[0m\u001b[0;34m:\u001b[0m\u001b[0;34m\u001b[0m\u001b[0;34m\u001b[0m\u001b[0m\n\u001b[0m\u001b[1;32m      5\u001b[0m       \u001b[0mmax\u001b[0m \u001b[0;34m=\u001b[0m \u001b[0mlista\u001b[0m\u001b[0;34m[\u001b[0m\u001b[0melemento\u001b[0m\u001b[0;34m]\u001b[0m\u001b[0;34m\u001b[0m\u001b[0;34m\u001b[0m\u001b[0m\n\u001b[1;32m      6\u001b[0m   \u001b[0;32mreturn\u001b[0m \u001b[0mmax\u001b[0m\u001b[0;34m\u001b[0m\u001b[0;34m\u001b[0m\u001b[0m\n",
            "\u001b[0;31mIndexError\u001b[0m: list index out of range"
          ]
        }
      ]
    }
  ]
}