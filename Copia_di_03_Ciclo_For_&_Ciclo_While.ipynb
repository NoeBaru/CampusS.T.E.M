{
  "nbformat": 4,
  "nbformat_minor": 0,
  "metadata": {
    "colab": {
      "provenance": [],
      "include_colab_link": true
    },
    "kernelspec": {
      "name": "python3",
      "display_name": "Python 3"
    },
    "language_info": {
      "name": "python"
    }
  },
  "cells": [
    {
      "cell_type": "markdown",
      "metadata": {
        "id": "view-in-github",
        "colab_type": "text"
      },
      "source": [
        "<a href=\"https://colab.research.google.com/github/NoeBaru/CampusS.T.E.M/blob/main/Copia_di_03_Ciclo_For_%26_Ciclo_While.ipynb\" target=\"_parent\"><img src=\"https://colab.research.google.com/assets/colab-badge.svg\" alt=\"Open In Colab\"/></a>"
      ]
    },
    {
      "cell_type": "markdown",
      "source": [
        "###***Esercizio 1***\n",
        "\n",
        "Crea una lista di 10 elementi e trova il minimo elemento all'interno della lista usando un ciclo ``for`` (**non** usando il metodo ``min()`` di Python!)"
      ],
      "metadata": {
        "id": "gaqveG3nD6n2"
      }
    },
    {
      "cell_type": "code",
      "execution_count": 15,
      "metadata": {
        "id": "owGa_9vyD1JX",
        "colab": {
          "base_uri": "https://localhost:8080/"
        },
        "outputId": "06f36912-83db-4fc5-f05e-8e6db01372d4"
      },
      "outputs": [
        {
          "output_type": "stream",
          "name": "stdout",
          "text": [
            "0\n"
          ]
        }
      ],
      "source": [
        "lista = [1, 2, 3, 4, 5, 6, 7, 8, 9, 0]\n",
        "min = lista[0]\n",
        "for elemento in lista: #stampa la lista\n",
        "  if elemento < min:\n",
        "    min = elemento\n",
        "print(min)"
      ]
    },
    {
      "cell_type": "markdown",
      "source": [
        "###***Esercizio 1 - bis***\n",
        "\n",
        "Riscrivi la soluzione dell'esercizio precedente usando il ciclo ``while`` invece del ciclo ``for``"
      ],
      "metadata": {
        "id": "fgUp6LSFFHKN"
      }
    },
    {
      "cell_type": "code",
      "source": [
        "lista = [1, 2, 3, 4, 5, 6, 7, 8, 9, 0]\n",
        "\n",
        "min = lista[0]\n",
        "num = len(lista)\n",
        "cont = 0\n",
        "\n",
        "while cont < num: #stampa la lista\n",
        "  if lista[cont] < min:\n",
        "    min = lista[cont]\n",
        "  cont += 1\n",
        "print(min)"
      ],
      "metadata": {
        "id": "A352HrMeEhrH",
        "colab": {
          "base_uri": "https://localhost:8080/"
        },
        "outputId": "9aa48d22-b998-4fd5-83df-f3793e54d0a8"
      },
      "execution_count": 16,
      "outputs": [
        {
          "output_type": "stream",
          "name": "stdout",
          "text": [
            "0\n"
          ]
        }
      ]
    },
    {
      "cell_type": "markdown",
      "source": [],
      "metadata": {
        "id": "HTqe1_vyFUX1"
      }
    }
  ]
}